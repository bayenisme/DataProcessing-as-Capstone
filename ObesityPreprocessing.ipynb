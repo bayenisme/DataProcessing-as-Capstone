{
 "cells": [
  {
   "cell_type": "markdown",
   "id": "d9820b67",
   "metadata": {},
   "source": [
    "# **Exploratory Data Analysis**"
   ]
  },
  {
   "cell_type": "code",
   "execution_count": null,
   "id": "7c6d5db5",
   "metadata": {},
   "outputs": [],
   "source": [
    "import pandas as pd\n",
    "import numpy as np\n",
    "import matplotlib.pyplot as plt\n",
    "import seaborn as sns"
   ]
  },
  {
   "cell_type": "code",
   "execution_count": null,
   "id": "3be01569",
   "metadata": {},
   "outputs": [],
   "source": [
    "pd.set_option('display.max_columns, None)\n",
    "df = pd.read_csv('/content/drive/My Drive/Colab Notebooks/ObesityDataset.csv')"
   ]
  },
  {
   "cell_type": "code",
   "execution_count": null,
   "id": "fc305e74",
   "metadata": {},
   "outputs": [],
   "source": [
    "print(\"5 Data Pertama\")\n",
    "display(df.head())"
   ]
  },
  {
   "cell_type": "code",
   "execution_count": null,
   "id": "3f9b4a2e",
   "metadata": {},
   "outputs": [],
   "source": [
    "print(\"\\nInformasi Dataset\")\n",
    "print(df.info())"
   ]
  },
  {
   "cell_type": "code",
   "execution_count": null,
   "id": "a165fe50",
   "metadata": {},
   "outputs": [],
   "source": [
    "print(\"\\nStatistik Deskriptif\")\n",
    "display(df.describe(include='all'))"
   ]
  },
  {
   "cell_type": "code",
   "execution_count": null,
   "id": "76f15c65",
   "metadata": {},
   "outputs": [],
   "source": [
    "print(\"\\nJumlah Missing Value\")\n",
    "print(df.isnull().sum())"
   ]
  },
  {
   "cell_type": "code",
   "execution_count": null,
   "id": "32192a8b",
   "metadata": {},
   "outputs": [],
   "source": [
    "print(\"\\nJumlah Data Duplikat\")\n",
    "print(df.duplicated().sum())"
   ]
  },
  {
   "cell_type": "code",
   "execution_count": null,
   "id": "6b6ecf8f",
   "metadata": {},
   "outputs": [],
   "source": [
    "print(\"\\nUnique Value per Kolom\")\n",
    "print(df.nUnique())"
   ]
  },
  {
   "cell_type": "markdown",
   "id": "4e781826",
   "metadata": {},
   "source": [
    "# **Visualisasi**"
   ]
  },
  {
   "cell_type": "code",
   "execution_count": null,
   "id": "477a4f59",
   "metadata": {},
   "outputs": [],
   "source": [
    "plt.figure(figsize=(10,5))\n",
    "sns.countplot(data=df, x='NObeyesdad', order=df['NObeyesdad'].value_counts().index)\n",
    "plt.xticks(rotation=45)\n",
    "plt.title('Distribusi Kelas Target (NObeyesdad)')\n",
    "plt.show()"
   ]
  },
  {
   "cell_type": "code",
   "execution_count": null,
   "id": "550b4c8e",
   "metadata": {},
   "outputs": [],
   "source": [
    "numerical_cols = df.select_dtypes(include=np.number).columns.tolist()\n",
    "plt.figure(figsize=(15,10))\n",
    "for i, col in enumerate(numerical_cols, 1):\n",
    "    plt.subplot(3, 3, i)\n",
    "    sns.boxplot(x=df[col])\n",
    "    plt.title(f'Boxplot of {col}')\n",
    "plt.tight_layout()\n",
    "plt.show()"
   ]
  }
 ],
 "metadata": {
  "language_info": {
   "name": "python"
  }
 },
 "nbformat": 4,
 "nbformat_minor": 5
}
